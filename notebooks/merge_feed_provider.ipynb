{
 "cells": [
  {
   "cell_type": "code",
   "execution_count": 49,
   "id": "96992c57",
   "metadata": {},
   "outputs": [],
   "source": [
    "import pandas as pd\n",
    "from datetime import datetime\n",
    "from datetime import timedelta\n",
    "from dateutil.relativedelta import relativedelta\n",
    "import pyodbc"
   ]
  },
  {
   "cell_type": "code",
   "execution_count": 50,
   "id": "f3bec18b",
   "metadata": {},
   "outputs": [],
   "source": [
    "# set the name of the month here\n",
    "month = \"june\"\n",
    "date = \"1 \" + month + \", 2022\"\n",
    "startdate = (datetime.strptime(date, \"%d %B, %Y\") - timedelta(days=1)).strftime(\n",
    "    \"%m/%d/%Y, %H:%M:%S\"\n",
    ")\n",
    "enddate = (datetime.strptime(date, \"%d %B, %Y\") + relativedelta(months=1)).strftime(\n",
    "    \"%m/%d/%Y, %H:%M:%S\"\n",
    ")"
   ]
  },
  {
   "cell_type": "markdown",
   "id": "82ba25f7",
   "metadata": {},
   "source": [
    "# Reading Feed Provider Data"
   ]
  },
  {
   "cell_type": "code",
   "execution_count": 51,
   "id": "13c17a2a",
   "metadata": {},
   "outputs": [
    {
     "data": {
      "text/html": [
       "<div>\n",
       "<style scoped>\n",
       "    .dataframe tbody tr th:only-of-type {\n",
       "        vertical-align: middle;\n",
       "    }\n",
       "\n",
       "    .dataframe tbody tr th {\n",
       "        vertical-align: top;\n",
       "    }\n",
       "\n",
       "    .dataframe thead th {\n",
       "        text-align: right;\n",
       "    }\n",
       "</style>\n",
       "<table border=\"1\" class=\"dataframe\">\n",
       "  <thead>\n",
       "    <tr style=\"text-align: right;\">\n",
       "      <th></th>\n",
       "      <th>evnt_start_time</th>\n",
       "      <th>mtng_date</th>\n",
       "      <th>mtng_venue_location</th>\n",
       "      <th>evnt_number</th>\n",
       "      <th>mtng_name</th>\n",
       "      <th>sport_name</th>\n",
       "    </tr>\n",
       "  </thead>\n",
       "  <tbody>\n",
       "    <tr>\n",
       "      <th>0</th>\n",
       "      <td>2022-06-01 01:02:00</td>\n",
       "      <td>2022-06-01</td>\n",
       "      <td>NSW</td>\n",
       "      <td>1</td>\n",
       "      <td>TAREE</td>\n",
       "      <td>Greyhound Racing</td>\n",
       "    </tr>\n",
       "    <tr>\n",
       "      <th>1</th>\n",
       "      <td>2022-06-01 01:17:00</td>\n",
       "      <td>2022-06-01</td>\n",
       "      <td>NSW</td>\n",
       "      <td>2</td>\n",
       "      <td>TAREE</td>\n",
       "      <td>Greyhound Racing</td>\n",
       "    </tr>\n",
       "    <tr>\n",
       "      <th>2</th>\n",
       "      <td>2022-06-01 01:20:00</td>\n",
       "      <td>2022-06-01</td>\n",
       "      <td>VIC</td>\n",
       "      <td>1</td>\n",
       "      <td>THE MEADOWS</td>\n",
       "      <td>Greyhound Racing</td>\n",
       "    </tr>\n",
       "    <tr>\n",
       "      <th>3</th>\n",
       "      <td>2022-06-01 01:34:00</td>\n",
       "      <td>2022-06-01</td>\n",
       "      <td>NSW</td>\n",
       "      <td>3</td>\n",
       "      <td>TAREE</td>\n",
       "      <td>Greyhound Racing</td>\n",
       "    </tr>\n",
       "    <tr>\n",
       "      <th>4</th>\n",
       "      <td>2022-06-01 01:37:00</td>\n",
       "      <td>2022-06-01</td>\n",
       "      <td>VIC</td>\n",
       "      <td>2</td>\n",
       "      <td>THE MEADOWS</td>\n",
       "      <td>Greyhound Racing</td>\n",
       "    </tr>\n",
       "    <tr>\n",
       "      <th>...</th>\n",
       "      <td>...</td>\n",
       "      <td>...</td>\n",
       "      <td>...</td>\n",
       "      <td>...</td>\n",
       "      <td>...</td>\n",
       "      <td>...</td>\n",
       "    </tr>\n",
       "    <tr>\n",
       "      <th>5534</th>\n",
       "      <td>2022-06-30 01:42:00</td>\n",
       "      <td>2022-06-30</td>\n",
       "      <td>NZL</td>\n",
       "      <td>2</td>\n",
       "      <td>RICCARTON</td>\n",
       "      <td>Horse Racing</td>\n",
       "    </tr>\n",
       "    <tr>\n",
       "      <th>5535</th>\n",
       "      <td>2022-06-30 02:17:00</td>\n",
       "      <td>2022-06-30</td>\n",
       "      <td>NZL</td>\n",
       "      <td>3</td>\n",
       "      <td>RICCARTON</td>\n",
       "      <td>Horse Racing</td>\n",
       "    </tr>\n",
       "    <tr>\n",
       "      <th>5536</th>\n",
       "      <td>2022-06-30 02:54:00</td>\n",
       "      <td>2022-06-30</td>\n",
       "      <td>NZL</td>\n",
       "      <td>4</td>\n",
       "      <td>RICCARTON</td>\n",
       "      <td>Horse Racing</td>\n",
       "    </tr>\n",
       "    <tr>\n",
       "      <th>5537</th>\n",
       "      <td>2022-06-30 03:29:00</td>\n",
       "      <td>2022-06-30</td>\n",
       "      <td>NZL</td>\n",
       "      <td>5</td>\n",
       "      <td>RICCARTON</td>\n",
       "      <td>Horse Racing</td>\n",
       "    </tr>\n",
       "    <tr>\n",
       "      <th>5538</th>\n",
       "      <td>2022-06-30 04:04:00</td>\n",
       "      <td>2022-06-30</td>\n",
       "      <td>NZL</td>\n",
       "      <td>6</td>\n",
       "      <td>RICCARTON</td>\n",
       "      <td>Horse Racing</td>\n",
       "    </tr>\n",
       "  </tbody>\n",
       "</table>\n",
       "<p>5539 rows × 6 columns</p>\n",
       "</div>"
      ],
      "text/plain": [
       "         evnt_start_time  mtng_date mtng_venue_location  evnt_number  \\\n",
       "0    2022-06-01 01:02:00 2022-06-01                 NSW            1   \n",
       "1    2022-06-01 01:17:00 2022-06-01                 NSW            2   \n",
       "2    2022-06-01 01:20:00 2022-06-01                 VIC            1   \n",
       "3    2022-06-01 01:34:00 2022-06-01                 NSW            3   \n",
       "4    2022-06-01 01:37:00 2022-06-01                 VIC            2   \n",
       "...                  ...        ...                 ...          ...   \n",
       "5534 2022-06-30 01:42:00 2022-06-30                 NZL            2   \n",
       "5535 2022-06-30 02:17:00 2022-06-30                 NZL            3   \n",
       "5536 2022-06-30 02:54:00 2022-06-30                 NZL            4   \n",
       "5537 2022-06-30 03:29:00 2022-06-30                 NZL            5   \n",
       "5538 2022-06-30 04:04:00 2022-06-30                 NZL            6   \n",
       "\n",
       "         mtng_name        sport_name  \n",
       "0           TAREE   Greyhound Racing  \n",
       "1           TAREE   Greyhound Racing  \n",
       "2     THE MEADOWS   Greyhound Racing  \n",
       "3           TAREE   Greyhound Racing  \n",
       "4     THE MEADOWS   Greyhound Racing  \n",
       "...            ...               ...  \n",
       "5534    RICCARTON       Horse Racing  \n",
       "5535    RICCARTON       Horse Racing  \n",
       "5536    RICCARTON       Horse Racing  \n",
       "5537    RICCARTON       Horse Racing  \n",
       "5538    RICCARTON       Horse Racing  \n",
       "\n",
       "[5539 rows x 6 columns]"
      ]
     },
     "execution_count": 51,
     "metadata": {},
     "output_type": "execute_result"
    }
   ],
   "source": [
    "df_feed_provider = pd.read_excel(\"../data/01_raw/fp_races/fp_races_\" + month + \".xlsx\")\n",
    "df_feed_provider[\"evnt_start_time\"] = pd.to_datetime(\n",
    "    df_feed_provider[\"evnt_start_time\"]\n",
    ")\n",
    "df_feed_provider.dropna(how=\"all\")"
   ]
  },
  {
   "cell_type": "markdown",
   "id": "d71efe01",
   "metadata": {},
   "source": [
    "# Reading Sportsbook and Exchange Data"
   ]
  },
  {
   "cell_type": "code",
   "execution_count": 52,
   "id": "dcbfedf7",
   "metadata": {},
   "outputs": [],
   "source": [
    "conn = pyodbc.connect(\"DSN=Redshift ODBC\")\n",
    "cursor = conn.cursor()"
   ]
  },
  {
   "cell_type": "code",
   "execution_count": 53,
   "id": "fede1ad3",
   "metadata": {},
   "outputs": [],
   "source": [
    "q1 = \"DROP TABLE IF EXISTS exch;\"\n",
    "q2 = (\n",
    "    \"CREATE temp TABLE exch AS ( SELECT ex.ramp_event_id, SUM(ex.commission_apportioned_amount_gbp) AS commission, SUM( CASE WHEN country_of_residence_name = 'Ireland' THEN ex.commission_apportioned_amount_gbp ELSE 0 END) AS ie_commission, SUM( CASE WHEN country_of_residence_name = 'United Kingdom' THEN ex.commission_apportioned_amount_gbp ELSE 0 END) AS uk_commission FROM omni_exchange.bf_vw_exchange_bet_matched_ramp AS ex LEFT JOIN omni.dim_account da ON da.account_id = ex.account_id AND da.brand_nk = 'BF' WHERE DATE(ex.settled_datetime) + 7 >= '\"\n",
    "    + startdate\n",
    "    + \"' AND DATE(ex.settled_datetime) - 7 < '\"\n",
    "    + enddate\n",
    "    + \"' AND ( country_name = 'Australia' OR country_name = 'New Zealand' OR country_name = 'South Africa') AND sport_name IN ('Greyhound Racing', 'Horse Racing') AND da.account_type NOT LIKE '%Internal%' AND ex.country_of_residence_name IN ('Ireland', 'United Kingdom') AND ex.account_id NOT IN (2224978,1577133,7793670,225707,5386997,5386999) GROUP BY 1);\"\n",
    ")\n",
    "q3 = \"DROP TABLE IF EXISTS sbk;\"\n",
    "q4 = \"CREATE temp TABLE sbk AS ( SELECT em.ramp_event_id, pp_track_name, sport_name, start_time_uki, event_country_name, SUM(em.volume_adjusted_gbp) AS volume, SUM(em.revenue_gbp - ticket_stake_gbp) AS adj_revenue, SUM( CASE WHEN country_of_residence_name = 'Ireland' THEN (case when em.brand = 'BF' then em.volume_adjusted_gbp else 0 end) ELSE 0 END) AS bf_ie_volume, SUM( CASE WHEN country_of_residence_name = 'United Kingdom' THEN (case when em.brand = 'BF' then em.volume_adjusted_gbp else 0 end) ELSE 0 END) AS bf_uk_volume, SUM( CASE WHEN country_of_residence_name = 'Ireland' THEN (case when em.brand = 'BF' then em.revenue_gbp - ticket_stake_gbp else 0 end) ELSE 0 END) AS bf_ie_adj_revenue, SUM( CASE WHEN country_of_residence_name = 'United Kingdom' THEN (case when em.brand = 'BF' then em.revenue_gbp - ticket_stake_gbp else 0 end) ELSE 0 END) AS bf_uk_adj_revenue, SUM( CASE WHEN country_of_residence_name = 'Ireland' THEN (case when em.brand = 'PP' then em.volume_adjusted_gbp else 0 end) ELSE 0 END) AS pp_ie_volume, SUM( CASE WHEN country_of_residence_name = 'United Kingdom' THEN (case when em.brand = 'PP' then em.volume_adjusted_gbp else 0 end) ELSE 0 END) AS pp_uk_volume, SUM( CASE WHEN country_of_residence_name = 'Ireland' THEN (case when em.brand = 'PP' then em.revenue_gbp - ticket_stake_gbp else 0 end) ELSE 0 END) AS pp_ie_adj_revenue, SUM( CASE WHEN country_of_residence_name = 'United Kingdom' THEN (case when em.brand = 'PP' then em.revenue_gbp - ticket_stake_gbp else 0 end) ELSE 0 END) AS pp_uk_adj_revenue FROM omni_sportsbook.vw_bet_summary_racing_reporting em LEFT JOIN omni.dim_account da ON da.account_id = em.account_id AND da.brand_nk = em.brand WHERE da.account_type NOT LIKE '%Internal%' AND (( event_country_name = 'Australia') OR ( event_country_name = 'New Zealand') OR ( event_country_name = 'South Africa')) AND ( start_time_uki) >= '2022-05-31' AND ( start_time_uki) < '2022-07-01' AND DATE(settled_datetime) + 7 >= '2022-05-31' AND DATE(settled_datetime) - 7 < '2022-07-01' AND em.country_of_residence_name IN ('Ireland', 'United Kingdom') AND sport_id IN (7,4339) GROUP BY 1,2,3,4,5);\"\n",
    "q5 = (\n",
    "    \"SELECT COALESCE(CAST(sbk.ramp_event_id AS INT), CAST(exch.ramp_event_id AS INT)) AS ramp_id, sbk.sport_name, pp_track_name AS track, ramp.race_number AS race_number, COALESCE(sbk.start_time_uki,ramp.actual_start_time) AS race_time, sbk.event_country_name AS country, exch.commission AS commission, exch.uk_commission, exch.ie_commission, bf_uk_volume, bf_ie_volume, pp_uk_volume, pp_ie_volume, volume FROM sbk FULL OUTER JOIN exch ON sbk.ramp_event_id = exch.ramp_event_id LEFT JOIN omni_betevent.ramp_vw_event AS ramp ON ramp.event_id = COALESCE(CAST(sbk.ramp_event_id AS INT), CAST(exch.ramp_event_id AS INT)) WHERE DATE(race_time) >= '\"\n",
    "    + startdate\n",
    "    + \"' AND DATE(race_time) < '\"\n",
    "    + enddate\n",
    "    + \"' \"\n",
    ")\n"
   ]
  },
  {
   "cell_type": "code",
   "execution_count": 54,
   "id": "5fb80bf0",
   "metadata": {},
   "outputs": [
    {
     "data": {
      "text/plain": [
       "<pyodbc.Cursor at 0x234c8736430>"
      ]
     },
     "execution_count": 54,
     "metadata": {},
     "output_type": "execute_result"
    }
   ],
   "source": [
    "cursor.execute(q1)\n",
    "cursor.execute(q2)\n",
    "cursor.execute(q3)\n",
    "cursor.execute(q4)"
   ]
  },
  {
   "cell_type": "code",
   "execution_count": 55,
   "id": "f27bc5b1",
   "metadata": {},
   "outputs": [],
   "source": [
    "# dataframe of data from the sportsbook and exchange\n",
    "df_volume_commission = pd.read_sql(q5, conn)\n",
    "df_volume_commission[\"race_time\"] = pd.to_datetime(df_volume_commission[\"race_time\"])"
   ]
  },
  {
   "cell_type": "code",
   "execution_count": 56,
   "id": "9df30bef",
   "metadata": {},
   "outputs": [],
   "source": [
    "j1 = \"DROP TABLE IF EXISTS exch;\"\n",
    "j2 = (\n",
    "    \"CREATE temp TABLE exch AS ( SELECT ex.ramp_event_id, SUM(ex.commission_apportioned_amount_gbp) AS commission, SUM( CASE WHEN country_of_residence_name = 'Ireland' THEN ex.commission_apportioned_amount_gbp ELSE 0 END) AS ie_commission, SUM( CASE WHEN country_of_residence_name = 'United Kingdom' THEN ex.commission_apportioned_amount_gbp ELSE 0 END) AS uk_commission FROM omni_exchange.bf_vw_exchange_bet_matched_ramp AS ex LEFT JOIN omni.dim_account da ON da.account_id = ex.account_id AND da.brand_nk = 'BF' WHERE DATE(ex.settled_datetime) + 7 >= '\"\n",
    "    + startdate\n",
    "    + \"' AND DATE(ex.settled_datetime) - 7 < '\"\n",
    "    + enddate\n",
    "    + \"' AND ( country_name = 'Japan') AND sport_name IN ('Greyhound Racing', 'Horse Racing') AND da.account_type NOT LIKE '%Internal%' AND ex.country_of_residence_name IN ('Ireland', 'United Kingdom') AND ex.account_id NOT IN (2224978,1577133,7793670,225707,5386997,5386999) GROUP BY 1);\"\n",
    ")\n",
    "j3 = \"DROP TABLE IF EXISTS sbk;\"\n",
    "j4 = (\n",
    "    \"CREATE temp TABLE sbk AS ( SELECT em.ramp_event_id, pp_track_name, sport_name, start_time_uki, event_country_name, SUM(em.volume_adjusted_gbp) AS volume, SUM(em.revenue_gbp - ticket_stake_gbp) AS adj_revenue, SUM( CASE WHEN country_of_residence_name = 'Ireland' THEN ( CASE WHEN em.brand = 'BF' THEN em.volume_adjusted_gbp ELSE 0 END) ELSE 0 END) AS bf_ie_volume, SUM( CASE WHEN country_of_residence_name = 'United Kingdom' THEN ( CASE WHEN em.brand = 'BF' THEN em.volume_adjusted_gbp ELSE 0 END) ELSE 0 END) AS bf_uk_volume, SUM( CASE WHEN country_of_residence_name = 'Ireland' THEN ( CASE WHEN em.brand = 'BF' THEN em.revenue_gbp - ticket_stake_gbp ELSE 0 END) ELSE 0 END) AS bf_ie_adj_revenue, SUM( CASE WHEN country_of_residence_name = 'United Kingdom' THEN ( CASE WHEN em.brand = 'BF' THEN em.revenue_gbp - ticket_stake_gbp ELSE 0 END) ELSE 0 END) AS bf_uk_adj_revenue, SUM( CASE WHEN country_of_residence_name = 'Ireland' THEN ( CASE WHEN em.brand = 'PP' THEN em.volume_adjusted_gbp ELSE 0 END) ELSE 0 END) AS pp_ie_volume, SUM( CASE WHEN country_of_residence_name = 'United Kingdom' THEN ( CASE WHEN em.brand = 'PP' THEN em.volume_adjusted_gbp ELSE 0 END) ELSE 0 END) AS pp_uk_volume, SUM( CASE WHEN country_of_residence_name = 'Ireland' THEN ( CASE WHEN em.brand = 'PP' THEN em.revenue_gbp - ticket_stake_gbp ELSE 0 END) ELSE 0 END) AS pp_ie_adj_revenue, SUM( CASE WHEN country_of_residence_name = 'United Kingdom' THEN ( CASE WHEN em.brand = 'PP' THEN em.revenue_gbp - ticket_stake_gbp ELSE 0 END) ELSE 0 END) AS pp_uk_adj_revenue FROM omni_sportsbook.vw_bet_summary_racing_reporting em LEFT JOIN omni.dim_account da ON da.account_id = em.account_id AND da.brand_nk = em.brand WHERE da.account_type NOT LIKE '%Internal%' AND ( event_country_name = 'Japan') AND ( start_time_uki) >= '\"\n",
    "    + startdate\n",
    "    + \"' AND ( start_time_uki) < '\"\n",
    "    + enddate\n",
    "    + \"' AND DATE(settled_datetime) + 7 >= '\"\n",
    "    + startdate\n",
    "    + \"' AND DATE(settled_datetime) - 7 < '\"\n",
    "    + enddate\n",
    "    + \"' AND em.country_of_residence_name IN ('Ireland', 'United Kingdom') AND sport_id IN (7,4339) GROUP BY 1,2,3,4,5);\"\n",
    ")\n",
    "j5 = (\n",
    "    \"SELECT COALESCE(CAST(sbk.ramp_event_id AS INT), CAST(exch.ramp_event_id AS INT)) AS ramp_id, sbk.sport_name, pp_track_name AS track, ramp.race_number AS race_number, COALESCE(sbk.start_time_uki,ramp.actual_start_time) AS race_time, sbk.event_country_name AS country, bf_uk_adj_revenue, bf_ie_adj_revenue, pp_uk_adj_revenue, pp_ie_adj_revenue, adj_revenue FROM sbk FULL OUTER JOIN exch ON sbk.ramp_event_id = exch.ramp_event_id LEFT JOIN omni_betevent.ramp_vw_event AS ramp ON ramp.event_id = COALESCE(CAST(sbk.ramp_event_id AS INT), CAST(exch.ramp_event_id AS INT)) WHERE DATE(race_time) >= '\"\n",
    "    + startdate\n",
    "    + \"' AND DATE(race_time) < '\"\n",
    "    + enddate\n",
    "    + \"'\"\n",
    ")\n"
   ]
  },
  {
   "cell_type": "code",
   "execution_count": 57,
   "id": "57185f19",
   "metadata": {},
   "outputs": [
    {
     "data": {
      "text/plain": [
       "<pyodbc.Cursor at 0x234c8736430>"
      ]
     },
     "execution_count": 57,
     "metadata": {},
     "output_type": "execute_result"
    }
   ],
   "source": [
    "cursor.execute(j1)\n",
    "cursor.execute(j2)\n",
    "cursor.execute(j3)\n",
    "cursor.execute(j4)"
   ]
  },
  {
   "cell_type": "code",
   "execution_count": 58,
   "id": "aaf0e9cf",
   "metadata": {},
   "outputs": [],
   "source": [
    "df_japan = pd.read_sql(j5, conn)"
   ]
  },
  {
   "cell_type": "markdown",
   "id": "dbba1508",
   "metadata": {},
   "source": [
    "# Cleaning the Data"
   ]
  },
  {
   "cell_type": "code",
   "execution_count": 59,
   "id": "46679887",
   "metadata": {
    "scrolled": false
   },
   "outputs": [],
   "source": [
    "to_replace = [\n",
    "    r\" ST\\'\",\n",
    "    r\"BOWEN RIVER\",\n",
    "    r\"MT BARKER\",\n",
    "    r\"NEWCASTLE DG\",\n",
    "    r\"NEWCASTLE AU\",\n",
    "    r\"WENTWORTH PK\",\n",
    "    r\" SCARPSIDE\",\n",
    "    r\".\\(AU\\)\",\n",
    "    r\".\\(AUS\\)\",\n",
    "    r\" AUS\",\n",
    "    r\" NZ\",\n",
    "    r\" \\(NZ\\)\",\n",
    "    r\"\\(DOGS\\)\",\n",
    "    r\" DOGS\",\n",
    "    r\"DOGS\",\n",
    "]\n",
    "replacements = [\n",
    "    \" STRAIGHT\",\n",
    "    \"Bowen\",\n",
    "    \"MOUNT BARKER\",\n",
    "    \"NEWCASTLE\",\n",
    "    \"NEWCASTLE\",\n",
    "    \"WENTWORTH PARK\",\n",
    "    \"\",\n",
    "    \"\",\n",
    "    \"\",\n",
    "    \"\",\n",
    "    \"\",\n",
    "    \"\",\n",
    "    \"\",\n",
    "    \"\",\n",
    "    \"\",\n",
    "]\n",
    "\n",
    "replacement_dict = dict(zip(to_replace, replacements))\n",
    "\n",
    "for key in replacement_dict.keys():\n",
    "    df_volume_commission[\"track\"] = df_volume_commission[\"track\"].replace(\n",
    "        key, replacement_dict[key], regex=True\n",
    "    )\n",
    "\n",
    "\n",
    "df_feed_provider_to_replace = [r\"\\s*Races\", r\"\\s*Greys\", r\"\\s*RACEWAY\\s*\"]\n",
    "df_feed_provider_replacements = [\"\", \"\", \"\"]\n",
    "\n",
    "df_feed_provider_replacement_dict = dict(\n",
    "    zip(df_feed_provider_to_replace, df_feed_provider_replacements)\n",
    ")\n",
    "\n",
    "for key in df_feed_provider_replacement_dict.keys():\n",
    "    df_feed_provider[\"Racecourse\"] = df_feed_provider[\"mtng_name\"].replace(\n",
    "        key, df_feed_provider_replacement_dict[key], regex=True\n",
    "    )\n",
    "\n",
    "\n",
    "df_feed_provider[\"Racecourse\"] = df_feed_provider[\"Racecourse\"].str.upper()\n",
    "\n",
    "df_volume_commission = df_volume_commission.rename(\n",
    "    columns={\n",
    "        \"track\": \"Racecourse\",\n",
    "        \"race_time\": \"evnt_start_time\",\n",
    "        \"race_number\": \"evnt_number\",\n",
    "    }\n",
    ")\n",
    "\n",
    "\n",
    "df_volume_commission[\"Racecourse\"] = df_volume_commission[\n",
    "    \"Racecourse\"\n",
    "].str.strip()\n",
    "df_feed_provider[\"Racecourse\"] = df_feed_provider[\"Racecourse\"].str.strip()\n",
    "\n",
    "df_volume_commission[\"sport_name\"] = df_volume_commission[\n",
    "    \"sport_name\"\n",
    "].str.strip()\n",
    "df_feed_provider[\"sport_name\"] = df_feed_provider[\"sport_name\"].str.strip()\n",
    "\n",
    "\n",
    "# converting to local time and then getting the date, in order to merge on event number and date\n",
    "df_volume_commission[\"Meeting Date\"] = df_volume_commission[\n",
    "    \"evnt_start_time\"\n",
    "] + timedelta(hours=8)\n",
    "df_volume_commission[\"evnt_number\"] = (\n",
    "    df_volume_commission[\"evnt_number\"].astype(str).astype(int)\n",
    ")\n",
    "\n",
    "\n",
    "df_feed_provider[\"Meeting Date\"] = df_feed_provider[\"evnt_start_time\"] + timedelta(\n",
    "    hours=8\n",
    ")\n",
    "\n",
    "df_volume_commission[\"Meeting Date\"] = pd.to_datetime(\n",
    "    df_volume_commission[\"Meeting Date\"]\n",
    ").dt.date\n",
    "df_feed_provider[\"Meeting Date\"] = pd.to_datetime(\n",
    "    df_feed_provider[\"Meeting Date\"]\n",
    ").dt.date\n"
   ]
  },
  {
   "cell_type": "markdown",
   "id": "c7bfa995",
   "metadata": {},
   "source": [
    "# Merging and Saving to CSVs"
   ]
  },
  {
   "cell_type": "code",
   "execution_count": 60,
   "id": "49ae9388",
   "metadata": {},
   "outputs": [],
   "source": [
    "df_merged = df_feed_provider.merge(\n",
    "    df_volume_commission,\n",
    "    how=\"right\",\n",
    "    on=[\"Racecourse\", \"Meeting Date\", \"evnt_number\", \"sport_name\"],\n",
    "    indicator=True,\n",
    ")"
   ]
  },
  {
   "cell_type": "code",
   "execution_count": 61,
   "id": "6b4ad93a",
   "metadata": {},
   "outputs": [],
   "source": [
    "df_right_only = df_merged[\n",
    "    (df_merged[\"_merge\"] == \"right_only\") & (df_merged[\"country\"] != \"South Africa\")\n",
    "]\n",
    "df_right_only.to_csv(\"../reports/figures/\" + month + \"/right_only.csv\", index=False)"
   ]
  },
  {
   "cell_type": "code",
   "execution_count": 62,
   "id": "9e1c55ca",
   "metadata": {
    "scrolled": true
   },
   "outputs": [],
   "source": [
    "df_left_merged = df_feed_provider.merge(\n",
    "    df_volume_commission,\n",
    "    how=\"left\",\n",
    "    on=[\"Racecourse\", \"Meeting Date\", \"evnt_number\"],\n",
    "    indicator=True,\n",
    ")\n",
    "df_left_only = df_left_merged[df_left_merged[\"_merge\"] == \"left_only\"]\n",
    "df_left_only.to_csv(\"../reports/figures/\" + month + \"/left_only.csv\", index=False)"
   ]
  },
  {
   "cell_type": "code",
   "execution_count": 63,
   "id": "98250f20",
   "metadata": {},
   "outputs": [],
   "source": [
    "df_merged_both = df_merged[\n",
    "    ((df_merged[\"_merge\"] == \"both\") | (df_merged[\"country\"] == \"South Africa\"))\n",
    "]\n",
    "df_merged_both.to_csv(\"../reports/figures/\" + month + \"/both.csv\", index=False)"
   ]
  },
  {
   "cell_type": "code",
   "execution_count": 64,
   "id": "b279cb5b",
   "metadata": {},
   "outputs": [],
   "source": [
    "df_japan.to_csv(\"../reports/figures/\" + month + \"/japan.csv\", index=False)"
   ]
  }
 ],
 "metadata": {
  "kernelspec": {
   "display_name": "Python 3 (ipykernel)",
   "language": "python",
   "name": "python3"
  },
  "language_info": {
   "codemirror_mode": {
    "name": "ipython",
    "version": 3
   },
   "file_extension": ".py",
   "mimetype": "text/x-python",
   "name": "python",
   "nbconvert_exporter": "python",
   "pygments_lexer": "ipython3",
   "version": "3.9.7"
  }
 },
 "nbformat": 4,
 "nbformat_minor": 5
}
